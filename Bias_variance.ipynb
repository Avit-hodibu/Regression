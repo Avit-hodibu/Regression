{
  "nbformat": 4,
  "nbformat_minor": 0,
  "metadata": {
    "colab": {
      "provenance": [],
      "authorship_tag": "ABX9TyN7c8XiJOdhLlwIv4OdbaSq",
      "include_colab_link": true
    },
    "kernelspec": {
      "name": "python3",
      "display_name": "Python 3"
    },
    "language_info": {
      "name": "python"
    }
  },
  "cells": [
    {
      "cell_type": "markdown",
      "metadata": {
        "id": "view-in-github",
        "colab_type": "text"
      },
      "source": [
        "<a href=\"https://colab.research.google.com/github/Avit-hodibu/Regression/blob/main/Bias_variance.ipynb\" target=\"_parent\"><img src=\"https://colab.research.google.com/assets/colab-badge.svg\" alt=\"Open In Colab\"/></a>"
      ]
    },
    {
      "cell_type": "markdown",
      "source": [
        "Bias = inablity to fit with training model\n",
        "\n",
        "high bias = means it doesnot aline well with train model\n",
        "\n",
        "low bias = means it aline well with train model\n",
        "\n",
        "Variance= difference of fit in different data set. For this test and train data.\n",
        "\n",
        "For eg: if train set giving 80 error and test giving 20 error than there is 60 variance\n",
        "\n",
        "low variance= when test and train have similar error\n",
        "\n",
        "high variance = when train and test higher difference in error\n",
        "\n",
        "Overfitting: if pred line perfect matches with training data. Training error is low and testing error is high. low b and high v\n",
        "\n",
        "Underfitting: does not perform well with train and test data. High bias and low var\n",
        "\n",
        "We need to chose low bias and low variance model. This is bias variance trade-off\n",
        "\n"
      ],
      "metadata": {
        "id": "6R8acrqNmN-V"
      }
    },
    {
      "cell_type": "markdown",
      "source": [
        "To remove overfitting there is 3 method\n",
        "1. Regularization\n",
        "2. Bagging\n",
        "3. Boosting"
      ],
      "metadata": {
        "id": "oxMrORNqhgeR"
      }
    },
    {
      "cell_type": "markdown",
      "source": [
        "# Regularization\n",
        "Regularization is a set of methods for reducing overfitting in machine learning models.\n",
        "\n",
        "Type:\n",
        "1. Ridge(L2)\n",
        "2. LASSO(L1)\n",
        "3. Elastic Net : combo of L1 and L2\n",
        "\n"
      ],
      "metadata": {
        "id": "Kl49hbSkuNBT"
      }
    },
    {
      "cell_type": "markdown",
      "source": [
        "Overfitting in terms of linear regression model is coefficent value is high. y= mx+c , where m is always high when overfitting . If m value is very low then it is underfitting.\n",
        "\n",
        "So, if we want to eliminite overfitting then we must decrease the value of m.\n",
        "\n"
      ],
      "metadata": {
        "id": "-vHFzCT_jO9f"
      }
    },
    {
      "cell_type": "markdown",
      "source": [
        "## Ridge(L2):\n",
        "We take out training best line(L1) and we also take testing best line(L2)(this is just a suggestion line).\n",
        "\n",
        "we have to convince our model that choose L2 line not L1.\n",
        "\n",
        "How we do is?\n",
        "\n",
        "we need to add lambda(m^2) in loss function. lambda is hyperparameter\n",
        "\n",
        "lambda=1 for both line.\n",
        "\n",
        "L= sum of i to n (yi -y hat)^2 + lambda(m^2)\n",
        "\n",
        "L1 loss func is more than L2 loss func so, model will choose L2\n",
        "\n",
        "For each coeff you need to m^2 to each.\n",
        "\n",
        "\n",
        "As a whole is to add lambda(m^2) term so that model wont overfit\n",
        "\n"
      ],
      "metadata": {
        "id": "S2Io8HY6jJx_"
      }
    },
    {
      "cell_type": "code",
      "execution_count": null,
      "metadata": {
        "id": "AGFp2vpkl-Dk"
      },
      "outputs": [],
      "source": [
        "import numpy as np\n",
        "import pandas as pd\n",
        "import matplotlib.pyplot as plt"
      ]
    },
    {
      "cell_type": "code",
      "source": [
        "from sklearn.datasets import load_diabetes\n",
        "data= load_diabetes()"
      ],
      "metadata": {
        "id": "xC-GnOS1w8nL"
      },
      "execution_count": null,
      "outputs": []
    },
    {
      "cell_type": "code",
      "source": [
        "X = data.data\n",
        "y = data.target"
      ],
      "metadata": {
        "id": "bLN7Ro9GxGO6"
      },
      "execution_count": null,
      "outputs": []
    },
    {
      "cell_type": "code",
      "source": [
        "from sklearn.model_selection import train_test_split\n",
        "X_train, X_test, y_train, y_test = train_test_split(X,y, test_size= 0.2, random_state=45)"
      ],
      "metadata": {
        "id": "aRL29Xj7xa1l"
      },
      "execution_count": null,
      "outputs": []
    },
    {
      "cell_type": "code",
      "source": [
        "from sklearn.linear_model import LinearRegression\n",
        "L= LinearRegression()"
      ],
      "metadata": {
        "id": "ECBMUUgLxzSx"
      },
      "execution_count": null,
      "outputs": []
    },
    {
      "cell_type": "code",
      "source": [
        "L.fit(X_train, y_train)"
      ],
      "metadata": {
        "colab": {
          "base_uri": "https://localhost:8080/",
          "height": 80
        },
        "id": "J3eB4c8Hx9MJ",
        "outputId": "0be44e5f-ad68-4606-fb16-6c3397ae469e"
      },
      "execution_count": null,
      "outputs": [
        {
          "output_type": "execute_result",
          "data": {
            "text/plain": [
              "LinearRegression()"
            ],
            "text/html": [
              "<style>#sk-container-id-1 {\n",
              "  /* Definition of color scheme common for light and dark mode */\n",
              "  --sklearn-color-text: black;\n",
              "  --sklearn-color-line: gray;\n",
              "  /* Definition of color scheme for unfitted estimators */\n",
              "  --sklearn-color-unfitted-level-0: #fff5e6;\n",
              "  --sklearn-color-unfitted-level-1: #f6e4d2;\n",
              "  --sklearn-color-unfitted-level-2: #ffe0b3;\n",
              "  --sklearn-color-unfitted-level-3: chocolate;\n",
              "  /* Definition of color scheme for fitted estimators */\n",
              "  --sklearn-color-fitted-level-0: #f0f8ff;\n",
              "  --sklearn-color-fitted-level-1: #d4ebff;\n",
              "  --sklearn-color-fitted-level-2: #b3dbfd;\n",
              "  --sklearn-color-fitted-level-3: cornflowerblue;\n",
              "\n",
              "  /* Specific color for light theme */\n",
              "  --sklearn-color-text-on-default-background: var(--sg-text-color, var(--theme-code-foreground, var(--jp-content-font-color1, black)));\n",
              "  --sklearn-color-background: var(--sg-background-color, var(--theme-background, var(--jp-layout-color0, white)));\n",
              "  --sklearn-color-border-box: var(--sg-text-color, var(--theme-code-foreground, var(--jp-content-font-color1, black)));\n",
              "  --sklearn-color-icon: #696969;\n",
              "\n",
              "  @media (prefers-color-scheme: dark) {\n",
              "    /* Redefinition of color scheme for dark theme */\n",
              "    --sklearn-color-text-on-default-background: var(--sg-text-color, var(--theme-code-foreground, var(--jp-content-font-color1, white)));\n",
              "    --sklearn-color-background: var(--sg-background-color, var(--theme-background, var(--jp-layout-color0, #111)));\n",
              "    --sklearn-color-border-box: var(--sg-text-color, var(--theme-code-foreground, var(--jp-content-font-color1, white)));\n",
              "    --sklearn-color-icon: #878787;\n",
              "  }\n",
              "}\n",
              "\n",
              "#sk-container-id-1 {\n",
              "  color: var(--sklearn-color-text);\n",
              "}\n",
              "\n",
              "#sk-container-id-1 pre {\n",
              "  padding: 0;\n",
              "}\n",
              "\n",
              "#sk-container-id-1 input.sk-hidden--visually {\n",
              "  border: 0;\n",
              "  clip: rect(1px 1px 1px 1px);\n",
              "  clip: rect(1px, 1px, 1px, 1px);\n",
              "  height: 1px;\n",
              "  margin: -1px;\n",
              "  overflow: hidden;\n",
              "  padding: 0;\n",
              "  position: absolute;\n",
              "  width: 1px;\n",
              "}\n",
              "\n",
              "#sk-container-id-1 div.sk-dashed-wrapped {\n",
              "  border: 1px dashed var(--sklearn-color-line);\n",
              "  margin: 0 0.4em 0.5em 0.4em;\n",
              "  box-sizing: border-box;\n",
              "  padding-bottom: 0.4em;\n",
              "  background-color: var(--sklearn-color-background);\n",
              "}\n",
              "\n",
              "#sk-container-id-1 div.sk-container {\n",
              "  /* jupyter's `normalize.less` sets `[hidden] { display: none; }`\n",
              "     but bootstrap.min.css set `[hidden] { display: none !important; }`\n",
              "     so we also need the `!important` here to be able to override the\n",
              "     default hidden behavior on the sphinx rendered scikit-learn.org.\n",
              "     See: https://github.com/scikit-learn/scikit-learn/issues/21755 */\n",
              "  display: inline-block !important;\n",
              "  position: relative;\n",
              "}\n",
              "\n",
              "#sk-container-id-1 div.sk-text-repr-fallback {\n",
              "  display: none;\n",
              "}\n",
              "\n",
              "div.sk-parallel-item,\n",
              "div.sk-serial,\n",
              "div.sk-item {\n",
              "  /* draw centered vertical line to link estimators */\n",
              "  background-image: linear-gradient(var(--sklearn-color-text-on-default-background), var(--sklearn-color-text-on-default-background));\n",
              "  background-size: 2px 100%;\n",
              "  background-repeat: no-repeat;\n",
              "  background-position: center center;\n",
              "}\n",
              "\n",
              "/* Parallel-specific style estimator block */\n",
              "\n",
              "#sk-container-id-1 div.sk-parallel-item::after {\n",
              "  content: \"\";\n",
              "  width: 100%;\n",
              "  border-bottom: 2px solid var(--sklearn-color-text-on-default-background);\n",
              "  flex-grow: 1;\n",
              "}\n",
              "\n",
              "#sk-container-id-1 div.sk-parallel {\n",
              "  display: flex;\n",
              "  align-items: stretch;\n",
              "  justify-content: center;\n",
              "  background-color: var(--sklearn-color-background);\n",
              "  position: relative;\n",
              "}\n",
              "\n",
              "#sk-container-id-1 div.sk-parallel-item {\n",
              "  display: flex;\n",
              "  flex-direction: column;\n",
              "}\n",
              "\n",
              "#sk-container-id-1 div.sk-parallel-item:first-child::after {\n",
              "  align-self: flex-end;\n",
              "  width: 50%;\n",
              "}\n",
              "\n",
              "#sk-container-id-1 div.sk-parallel-item:last-child::after {\n",
              "  align-self: flex-start;\n",
              "  width: 50%;\n",
              "}\n",
              "\n",
              "#sk-container-id-1 div.sk-parallel-item:only-child::after {\n",
              "  width: 0;\n",
              "}\n",
              "\n",
              "/* Serial-specific style estimator block */\n",
              "\n",
              "#sk-container-id-1 div.sk-serial {\n",
              "  display: flex;\n",
              "  flex-direction: column;\n",
              "  align-items: center;\n",
              "  background-color: var(--sklearn-color-background);\n",
              "  padding-right: 1em;\n",
              "  padding-left: 1em;\n",
              "}\n",
              "\n",
              "\n",
              "/* Toggleable style: style used for estimator/Pipeline/ColumnTransformer box that is\n",
              "clickable and can be expanded/collapsed.\n",
              "- Pipeline and ColumnTransformer use this feature and define the default style\n",
              "- Estimators will overwrite some part of the style using the `sk-estimator` class\n",
              "*/\n",
              "\n",
              "/* Pipeline and ColumnTransformer style (default) */\n",
              "\n",
              "#sk-container-id-1 div.sk-toggleable {\n",
              "  /* Default theme specific background. It is overwritten whether we have a\n",
              "  specific estimator or a Pipeline/ColumnTransformer */\n",
              "  background-color: var(--sklearn-color-background);\n",
              "}\n",
              "\n",
              "/* Toggleable label */\n",
              "#sk-container-id-1 label.sk-toggleable__label {\n",
              "  cursor: pointer;\n",
              "  display: block;\n",
              "  width: 100%;\n",
              "  margin-bottom: 0;\n",
              "  padding: 0.5em;\n",
              "  box-sizing: border-box;\n",
              "  text-align: center;\n",
              "}\n",
              "\n",
              "#sk-container-id-1 label.sk-toggleable__label-arrow:before {\n",
              "  /* Arrow on the left of the label */\n",
              "  content: \"▸\";\n",
              "  float: left;\n",
              "  margin-right: 0.25em;\n",
              "  color: var(--sklearn-color-icon);\n",
              "}\n",
              "\n",
              "#sk-container-id-1 label.sk-toggleable__label-arrow:hover:before {\n",
              "  color: var(--sklearn-color-text);\n",
              "}\n",
              "\n",
              "/* Toggleable content - dropdown */\n",
              "\n",
              "#sk-container-id-1 div.sk-toggleable__content {\n",
              "  max-height: 0;\n",
              "  max-width: 0;\n",
              "  overflow: hidden;\n",
              "  text-align: left;\n",
              "  /* unfitted */\n",
              "  background-color: var(--sklearn-color-unfitted-level-0);\n",
              "}\n",
              "\n",
              "#sk-container-id-1 div.sk-toggleable__content.fitted {\n",
              "  /* fitted */\n",
              "  background-color: var(--sklearn-color-fitted-level-0);\n",
              "}\n",
              "\n",
              "#sk-container-id-1 div.sk-toggleable__content pre {\n",
              "  margin: 0.2em;\n",
              "  border-radius: 0.25em;\n",
              "  color: var(--sklearn-color-text);\n",
              "  /* unfitted */\n",
              "  background-color: var(--sklearn-color-unfitted-level-0);\n",
              "}\n",
              "\n",
              "#sk-container-id-1 div.sk-toggleable__content.fitted pre {\n",
              "  /* unfitted */\n",
              "  background-color: var(--sklearn-color-fitted-level-0);\n",
              "}\n",
              "\n",
              "#sk-container-id-1 input.sk-toggleable__control:checked~div.sk-toggleable__content {\n",
              "  /* Expand drop-down */\n",
              "  max-height: 200px;\n",
              "  max-width: 100%;\n",
              "  overflow: auto;\n",
              "}\n",
              "\n",
              "#sk-container-id-1 input.sk-toggleable__control:checked~label.sk-toggleable__label-arrow:before {\n",
              "  content: \"▾\";\n",
              "}\n",
              "\n",
              "/* Pipeline/ColumnTransformer-specific style */\n",
              "\n",
              "#sk-container-id-1 div.sk-label input.sk-toggleable__control:checked~label.sk-toggleable__label {\n",
              "  color: var(--sklearn-color-text);\n",
              "  background-color: var(--sklearn-color-unfitted-level-2);\n",
              "}\n",
              "\n",
              "#sk-container-id-1 div.sk-label.fitted input.sk-toggleable__control:checked~label.sk-toggleable__label {\n",
              "  background-color: var(--sklearn-color-fitted-level-2);\n",
              "}\n",
              "\n",
              "/* Estimator-specific style */\n",
              "\n",
              "/* Colorize estimator box */\n",
              "#sk-container-id-1 div.sk-estimator input.sk-toggleable__control:checked~label.sk-toggleable__label {\n",
              "  /* unfitted */\n",
              "  background-color: var(--sklearn-color-unfitted-level-2);\n",
              "}\n",
              "\n",
              "#sk-container-id-1 div.sk-estimator.fitted input.sk-toggleable__control:checked~label.sk-toggleable__label {\n",
              "  /* fitted */\n",
              "  background-color: var(--sklearn-color-fitted-level-2);\n",
              "}\n",
              "\n",
              "#sk-container-id-1 div.sk-label label.sk-toggleable__label,\n",
              "#sk-container-id-1 div.sk-label label {\n",
              "  /* The background is the default theme color */\n",
              "  color: var(--sklearn-color-text-on-default-background);\n",
              "}\n",
              "\n",
              "/* On hover, darken the color of the background */\n",
              "#sk-container-id-1 div.sk-label:hover label.sk-toggleable__label {\n",
              "  color: var(--sklearn-color-text);\n",
              "  background-color: var(--sklearn-color-unfitted-level-2);\n",
              "}\n",
              "\n",
              "/* Label box, darken color on hover, fitted */\n",
              "#sk-container-id-1 div.sk-label.fitted:hover label.sk-toggleable__label.fitted {\n",
              "  color: var(--sklearn-color-text);\n",
              "  background-color: var(--sklearn-color-fitted-level-2);\n",
              "}\n",
              "\n",
              "/* Estimator label */\n",
              "\n",
              "#sk-container-id-1 div.sk-label label {\n",
              "  font-family: monospace;\n",
              "  font-weight: bold;\n",
              "  display: inline-block;\n",
              "  line-height: 1.2em;\n",
              "}\n",
              "\n",
              "#sk-container-id-1 div.sk-label-container {\n",
              "  text-align: center;\n",
              "}\n",
              "\n",
              "/* Estimator-specific */\n",
              "#sk-container-id-1 div.sk-estimator {\n",
              "  font-family: monospace;\n",
              "  border: 1px dotted var(--sklearn-color-border-box);\n",
              "  border-radius: 0.25em;\n",
              "  box-sizing: border-box;\n",
              "  margin-bottom: 0.5em;\n",
              "  /* unfitted */\n",
              "  background-color: var(--sklearn-color-unfitted-level-0);\n",
              "}\n",
              "\n",
              "#sk-container-id-1 div.sk-estimator.fitted {\n",
              "  /* fitted */\n",
              "  background-color: var(--sklearn-color-fitted-level-0);\n",
              "}\n",
              "\n",
              "/* on hover */\n",
              "#sk-container-id-1 div.sk-estimator:hover {\n",
              "  /* unfitted */\n",
              "  background-color: var(--sklearn-color-unfitted-level-2);\n",
              "}\n",
              "\n",
              "#sk-container-id-1 div.sk-estimator.fitted:hover {\n",
              "  /* fitted */\n",
              "  background-color: var(--sklearn-color-fitted-level-2);\n",
              "}\n",
              "\n",
              "/* Specification for estimator info (e.g. \"i\" and \"?\") */\n",
              "\n",
              "/* Common style for \"i\" and \"?\" */\n",
              "\n",
              ".sk-estimator-doc-link,\n",
              "a:link.sk-estimator-doc-link,\n",
              "a:visited.sk-estimator-doc-link {\n",
              "  float: right;\n",
              "  font-size: smaller;\n",
              "  line-height: 1em;\n",
              "  font-family: monospace;\n",
              "  background-color: var(--sklearn-color-background);\n",
              "  border-radius: 1em;\n",
              "  height: 1em;\n",
              "  width: 1em;\n",
              "  text-decoration: none !important;\n",
              "  margin-left: 1ex;\n",
              "  /* unfitted */\n",
              "  border: var(--sklearn-color-unfitted-level-1) 1pt solid;\n",
              "  color: var(--sklearn-color-unfitted-level-1);\n",
              "}\n",
              "\n",
              ".sk-estimator-doc-link.fitted,\n",
              "a:link.sk-estimator-doc-link.fitted,\n",
              "a:visited.sk-estimator-doc-link.fitted {\n",
              "  /* fitted */\n",
              "  border: var(--sklearn-color-fitted-level-1) 1pt solid;\n",
              "  color: var(--sklearn-color-fitted-level-1);\n",
              "}\n",
              "\n",
              "/* On hover */\n",
              "div.sk-estimator:hover .sk-estimator-doc-link:hover,\n",
              ".sk-estimator-doc-link:hover,\n",
              "div.sk-label-container:hover .sk-estimator-doc-link:hover,\n",
              ".sk-estimator-doc-link:hover {\n",
              "  /* unfitted */\n",
              "  background-color: var(--sklearn-color-unfitted-level-3);\n",
              "  color: var(--sklearn-color-background);\n",
              "  text-decoration: none;\n",
              "}\n",
              "\n",
              "div.sk-estimator.fitted:hover .sk-estimator-doc-link.fitted:hover,\n",
              ".sk-estimator-doc-link.fitted:hover,\n",
              "div.sk-label-container:hover .sk-estimator-doc-link.fitted:hover,\n",
              ".sk-estimator-doc-link.fitted:hover {\n",
              "  /* fitted */\n",
              "  background-color: var(--sklearn-color-fitted-level-3);\n",
              "  color: var(--sklearn-color-background);\n",
              "  text-decoration: none;\n",
              "}\n",
              "\n",
              "/* Span, style for the box shown on hovering the info icon */\n",
              ".sk-estimator-doc-link span {\n",
              "  display: none;\n",
              "  z-index: 9999;\n",
              "  position: relative;\n",
              "  font-weight: normal;\n",
              "  right: .2ex;\n",
              "  padding: .5ex;\n",
              "  margin: .5ex;\n",
              "  width: min-content;\n",
              "  min-width: 20ex;\n",
              "  max-width: 50ex;\n",
              "  color: var(--sklearn-color-text);\n",
              "  box-shadow: 2pt 2pt 4pt #999;\n",
              "  /* unfitted */\n",
              "  background: var(--sklearn-color-unfitted-level-0);\n",
              "  border: .5pt solid var(--sklearn-color-unfitted-level-3);\n",
              "}\n",
              "\n",
              ".sk-estimator-doc-link.fitted span {\n",
              "  /* fitted */\n",
              "  background: var(--sklearn-color-fitted-level-0);\n",
              "  border: var(--sklearn-color-fitted-level-3);\n",
              "}\n",
              "\n",
              ".sk-estimator-doc-link:hover span {\n",
              "  display: block;\n",
              "}\n",
              "\n",
              "/* \"?\"-specific style due to the `<a>` HTML tag */\n",
              "\n",
              "#sk-container-id-1 a.estimator_doc_link {\n",
              "  float: right;\n",
              "  font-size: 1rem;\n",
              "  line-height: 1em;\n",
              "  font-family: monospace;\n",
              "  background-color: var(--sklearn-color-background);\n",
              "  border-radius: 1rem;\n",
              "  height: 1rem;\n",
              "  width: 1rem;\n",
              "  text-decoration: none;\n",
              "  /* unfitted */\n",
              "  color: var(--sklearn-color-unfitted-level-1);\n",
              "  border: var(--sklearn-color-unfitted-level-1) 1pt solid;\n",
              "}\n",
              "\n",
              "#sk-container-id-1 a.estimator_doc_link.fitted {\n",
              "  /* fitted */\n",
              "  border: var(--sklearn-color-fitted-level-1) 1pt solid;\n",
              "  color: var(--sklearn-color-fitted-level-1);\n",
              "}\n",
              "\n",
              "/* On hover */\n",
              "#sk-container-id-1 a.estimator_doc_link:hover {\n",
              "  /* unfitted */\n",
              "  background-color: var(--sklearn-color-unfitted-level-3);\n",
              "  color: var(--sklearn-color-background);\n",
              "  text-decoration: none;\n",
              "}\n",
              "\n",
              "#sk-container-id-1 a.estimator_doc_link.fitted:hover {\n",
              "  /* fitted */\n",
              "  background-color: var(--sklearn-color-fitted-level-3);\n",
              "}\n",
              "</style><div id=\"sk-container-id-1\" class=\"sk-top-container\"><div class=\"sk-text-repr-fallback\"><pre>LinearRegression()</pre><b>In a Jupyter environment, please rerun this cell to show the HTML representation or trust the notebook. <br />On GitHub, the HTML representation is unable to render, please try loading this page with nbviewer.org.</b></div><div class=\"sk-container\" hidden><div class=\"sk-item\"><div class=\"sk-estimator fitted sk-toggleable\"><input class=\"sk-toggleable__control sk-hidden--visually\" id=\"sk-estimator-id-1\" type=\"checkbox\" checked><label for=\"sk-estimator-id-1\" class=\"sk-toggleable__label fitted sk-toggleable__label-arrow fitted\">&nbsp;&nbsp;LinearRegression<a class=\"sk-estimator-doc-link fitted\" rel=\"noreferrer\" target=\"_blank\" href=\"https://scikit-learn.org/1.5/modules/generated/sklearn.linear_model.LinearRegression.html\">?<span>Documentation for LinearRegression</span></a><span class=\"sk-estimator-doc-link fitted\">i<span>Fitted</span></span></label><div class=\"sk-toggleable__content fitted\"><pre>LinearRegression()</pre></div> </div></div></div></div>"
            ]
          },
          "metadata": {},
          "execution_count": 6
        }
      ]
    },
    {
      "cell_type": "code",
      "source": [
        "y_pred = L.predict(X_test)\n",
        "from sklearn.metrics import r2_score, mean_squared_error\n",
        "print(\"R2_score\", r2_score(y_test, y_pred))\n",
        "print(\"RMSE\", np.sqrt(mean_squared_error(y_test, y_pred)))"
      ],
      "metadata": {
        "colab": {
          "base_uri": "https://localhost:8080/"
        },
        "id": "kTO8QGwryC76",
        "outputId": "99b9ca1f-9e53-43a1-94fd-0cf22882c8a7"
      },
      "execution_count": null,
      "outputs": [
        {
          "output_type": "stream",
          "name": "stdout",
          "text": [
            "R2_score 0.5188113124539249\n",
            "RMSE 48.72713760953253\n"
          ]
        }
      ]
    },
    {
      "cell_type": "code",
      "source": [
        "from sklearn.linear_model import Ridge\n",
        "R= Ridge(alpha= 0.0001) #alpha is lambda\n",
        "R.fit(X_train, y_train)\n",
        "y_pred1 = R.predict(X_test)\n",
        "print(\"R2_score\", r2_score(y_test, y_pred1))\n",
        "print(\"RMSE\", np.sqrt(mean_squared_error(y_test, y_pred1)))"
      ],
      "metadata": {
        "colab": {
          "base_uri": "https://localhost:8080/"
        },
        "id": "DOWqkBEzyg_x",
        "outputId": "2fe06f3d-4082-4a00-bd3e-8dbda8fcf124"
      },
      "execution_count": null,
      "outputs": [
        {
          "output_type": "stream",
          "name": "stdout",
          "text": [
            "R2_score 0.5189732635884949\n",
            "RMSE 48.71893700181956\n"
          ]
        }
      ]
    },
    {
      "cell_type": "code",
      "source": [
        "m = 100\n",
        "x1 = 5 * np.random.rand(m, 1) - 2\n",
        "x2 = 0.7 * x1 ** 2 - 2 * x1 + 3 + np.random.randn(m, 1)\n",
        "\n",
        "plt.scatter(x1, x2)\n",
        "plt.show()"
      ],
      "metadata": {
        "colab": {
          "base_uri": "https://localhost:8080/",
          "height": 431
        },
        "id": "rnlfNYrWzKsD",
        "outputId": "69a7fd9f-0e51-402c-eaaa-c746e0b08f8b"
      },
      "execution_count": null,
      "outputs": [
        {
          "output_type": "display_data",
          "data": {
            "text/plain": [
              "<Figure size 640x480 with 1 Axes>"
            ],
            "image/png": "[encoded data removed]"
          },
          "metadata": {}
        }
      ]
    },
    {
      "cell_type": "code",
      "source": [
        "from sklearn.pipeline import Pipeline\n",
        "from sklearn.preprocessing import PolynomialFeatures\n",
        "\n",
        "def get_preds_ridge(x1, x2, alpha):\n",
        "    model = Pipeline([\n",
        "        ('poly_feats', PolynomialFeatures(degree=16)),\n",
        "        ('ridge', Ridge(alpha=alpha))\n",
        "    ])\n",
        "    model.fit(x1, x2)\n",
        "    return model.predict(x1)\n",
        "\n",
        "alphas = [0, 20, 200]\n",
        "cs = ['r', 'g', 'b']\n",
        "\n",
        "plt.figure(figsize=(10, 6))\n",
        "plt.plot(x1, x2, 'b+', label='Datapoints')\n",
        "\n",
        "for alpha, c in zip(alphas, cs):\n",
        "    preds = get_preds_ridge(x1, x2, alpha)\n",
        "    # Plot\n",
        "    plt.plot(sorted(x1[:, 0]), preds[np.argsort(x1[:, 0])], c, label='Alpha: {}'.format(alpha))\n",
        "\n",
        "plt.legend()\n",
        "plt.show()"
      ],
      "metadata": {
        "colab": {
          "base_uri": "https://localhost:8080/",
          "height": 408
        },
        "id": "1mMSxt7yzl_s",
        "outputId": "fcc9856b-fd7a-4fac-d780-eb7e5e20ea34"
      },
      "execution_count": null,
      "outputs": [
        {
          "output_type": "display_data",
          "data": {
            "text/plain": [
              "<Figure size 1000x600 with 1 Axes>"
            ],
            "image/png": "[encoded data removed]"
          },
          "metadata": {}
        }
      ]
    },
    {
      "cell_type": "markdown",
      "source": [
        "alpha =0 is ovetfitting\n",
        "alpha = 200 is underfitting\n",
        "alpha = 20 is good"
      ],
      "metadata": {
        "id": "uUUjoddr0F55"
      }
    },
    {
      "cell_type": "markdown",
      "source": [
        "L= sum of i to n (yi -y hat)^2 + lambda(m^2)\n",
        "\n",
        "dL/ dm = 0\n",
        "m= (sum i to n (yi - y hat)(Xi - X hat))/(sum i to n (Xi - Xhat)^2 + lambda)\n",
        "\n",
        "bigger the lambda = alpha hyperparameter m will decrease.\n",
        "\n",
        "\n",
        "\n"
      ],
      "metadata": {
        "id": "zuDqc6oCo1Vt"
      }
    },
    {
      "cell_type": "code",
      "source": [
        "from sklearn.datasets import make_regression\n",
        "import matplotlib.pyplot as plt\n",
        "import numpy as np"
      ],
      "metadata": {
        "id": "QHtxaxWesMKt"
      },
      "execution_count": null,
      "outputs": []
    },
    {
      "cell_type": "code",
      "source": [
        "X,y = make_regression(n_samples=100, n_features=1, n_informative=1, n_targets=1,noise=20,random_state=13)\n",
        "\n",
        "plt.scatter(X,y)"
      ],
      "metadata": {
        "colab": {
          "base_uri": "https://localhost:8080/",
          "height": 448
        },
        "id": "2dbE8eSVsfU8",
        "outputId": "5cceb433-6da1-43af-9d83-326b47471784"
      },
      "execution_count": null,
      "outputs": [
        {
          "output_type": "execute_result",
          "data": {
            "text/plain": [
              "<matplotlib.collections.PathCollection at 0x782877a06950>"
            ]
          },
          "metadata": {},
          "execution_count": 2
        },
        {
          "output_type": "display_data",
          "data": {
            "text/plain": [
              "<Figure size 640x480 with 1 Axes>"
            ],
            "image/png": "[encoded data removed]"
          },
          "metadata": {}
        }
      ]
    },
    {
      "cell_type": "code",
      "source": [
        "from sklearn.linear_model import LinearRegression\n",
        "lr = LinearRegression()\n",
        "lr.fit(X,y)\n",
        "print(lr.coef_)\n",
        "print(lr.intercept_)"
      ],
      "metadata": {
        "colab": {
          "base_uri": "https://localhost:8080/"
        },
        "id": "IYwHRkL1smOr",
        "outputId": "0d76f394-d1cd-4c67-8b2c-3b1ae48b21ea"
      },
      "execution_count": null,
      "outputs": [
        {
          "output_type": "stream",
          "name": "stdout",
          "text": [
            "[27.82809103]\n",
            "-2.29474455867698\n"
          ]
        }
      ]
    },
    {
      "cell_type": "code",
      "source": [
        "from sklearn.linear_model import Ridge\n",
        "rr = Ridge(alpha=10)\n",
        "rr.fit(X,y)\n",
        "print(rr.coef_)\n",
        "print(rr.intercept_)"
      ],
      "metadata": {
        "colab": {
          "base_uri": "https://localhost:8080/"
        },
        "id": "ul2NG7I4stTM",
        "outputId": "39255785-e1b8-4d34-ee19-1be42f95123f"
      },
      "execution_count": null,
      "outputs": [
        {
          "output_type": "stream",
          "name": "stdout",
          "text": [
            "[24.9546267]\n",
            "-2.1269130035235735\n"
          ]
        }
      ]
    },
    {
      "cell_type": "code",
      "source": [
        "rr1 = Ridge(alpha=100)\n",
        "rr1.fit(X,y)\n",
        "print(rr1.coef_)\n",
        "print(rr1.intercept_)"
      ],
      "metadata": {
        "colab": {
          "base_uri": "https://localhost:8080/"
        },
        "id": "mByP-mbLs2E7",
        "outputId": "7b88825f-d10a-47fc-a21a-44caf7024ca4"
      },
      "execution_count": null,
      "outputs": [
        {
          "output_type": "stream",
          "name": "stdout",
          "text": [
            "[12.93442104]\n",
            "-1.4248441496033308\n"
          ]
        }
      ]
    },
    {
      "cell_type": "code",
      "source": [
        "plt.plot(X,y,'b.')\n",
        "plt.plot(X,lr.predict(X),color='red',label='alpha=0')\n",
        "plt.plot(X,rr.predict(X),color='green',label='alpha=10')\n",
        "plt.plot(X,rr1.predict(X),color='orange',label='alpha=100')\n",
        "plt.legend()"
      ],
      "metadata": {
        "colab": {
          "base_uri": "https://localhost:8080/",
          "height": 448
        },
        "id": "L_IPX5HTs7iF",
        "outputId": "e9377c60-daa2-4391-aac9-85a5ef1189e9"
      },
      "execution_count": null,
      "outputs": [
        {
          "output_type": "execute_result",
          "data": {
            "text/plain": [
              "<matplotlib.legend.Legend at 0x782872865600>"
            ]
          },
          "metadata": {},
          "execution_count": 6
        },
        {
          "output_type": "display_data",
          "data": {
            "text/plain": [
              "<Figure size 640x480 with 1 Axes>"
            ],
            "image/png": "[encoded data removed]"
          },
          "metadata": {}
        }
      ]
    },
    {
      "cell_type": "markdown",
      "source": [
        "**Writing own code**"
      ],
      "metadata": {
        "id": "d0R_W207tMQz"
      }
    },
    {
      "cell_type": "code",
      "source": [
        "def linear_regression(X,y,alpha=1):\n",
        "    x_mean = X.mean()\n",
        "    y_mean = y.mean()\n",
        "\n",
        "    num = 0\n",
        "    den = 0\n",
        "\n",
        "    for i in range(X.shape[0]):\n",
        "        num = num + (y[i] - y_mean) * (X[i] - x_mean)\n",
        "        den = den + (X[i] - x_mean) * (X[i] - x_mean)\n",
        "\n",
        "    m = num/(den + alpha)\n",
        "    b = y_mean - m*x_mean\n",
        "\n",
        "    return m,b"
      ],
      "metadata": {
        "id": "L0LbzAXXs9Yo"
      },
      "execution_count": null,
      "outputs": []
    },
    {
      "cell_type": "code",
      "source": [
        "class myRidge:\n",
        "\n",
        "    def __init__(self,alpha):\n",
        "        self.alpha = alpha\n",
        "        self.m = None\n",
        "        self.b = None\n",
        "\n",
        "    def fit(self,X_train,y_train):\n",
        "\n",
        "        num = 0\n",
        "        den = 0\n",
        "\n",
        "        for i in range(X_train.shape[0]):\n",
        "            num = num + (y_train[i] - y_train.mean())*(X_train[i] - X_train.mean())\n",
        "            den = den + (X_train[i] - X_train.mean())*(X_train[i] - X_train.mean())\n",
        "\n",
        "        self.m = num/(den + self.alpha)\n",
        "        self.b = y_train.mean() - (self.m*X_train.mean())\n",
        "        print(self.m,self.b)\n",
        "\n",
        "    def predict(X_test):\n",
        "        pass"
      ],
      "metadata": {
        "id": "gMl1sqMgtGGg"
      },
      "execution_count": null,
      "outputs": []
    },
    {
      "cell_type": "code",
      "source": [
        "reg = myRidge(alpha=10)"
      ],
      "metadata": {
        "id": "7XsFsh0ItI1V"
      },
      "execution_count": null,
      "outputs": []
    },
    {
      "cell_type": "code",
      "source": [
        "reg.fit(X,y)"
      ],
      "metadata": {
        "colab": {
          "base_uri": "https://localhost:8080/"
        },
        "id": "K0PpqWbFtR5O",
        "outputId": "d8d53568-0956-4474-ad0d-7d2350241190"
      },
      "execution_count": null,
      "outputs": [
        {
          "output_type": "stream",
          "name": "stdout",
          "text": [
            "[24.9546267] [-2.126913]\n"
          ]
        }
      ]
    },
    {
      "cell_type": "markdown",
      "source": [
        "**Higher dimension data**\n",
        "\n",
        "W = m col\n",
        "\n",
        "L= (XW - Y)transpose . (XW - Y) = normal LR\n",
        "\n",
        "with ridge\n",
        "L= (XW - Y)transpose . (XW - Y) + lambda ||w||^2\n",
        "\n",
        "lambda ||w||^2 = lambda wo^2+lambda w1^2+...+lambda wn^2\n",
        "\n",
        "So,\n",
        "L= (XW - Y)transpose . (XW - Y) + lambda (W)transpose . W\n",
        "\n",
        "dL/dW = 0\n",
        "\n",
        "this gives:\n",
        "\n",
        "W = (X transpose . X + lambda I)^-1 X transpose . Y\n",
        "\n",
        "I = identity matrix\n",
        "\n",
        "\n"
      ],
      "metadata": {
        "id": "imvrqXDowNyb"
      }
    },
    {
      "cell_type": "code",
      "source": [
        "from sklearn.datasets import load_diabetes\n",
        "from sklearn.metrics import r2_score\n",
        "import numpy as np"
      ],
      "metadata": {
        "id": "Fe8eu0Ukvvgc"
      },
      "execution_count": null,
      "outputs": []
    },
    {
      "cell_type": "code",
      "source": [
        "X,y = load_diabetes(return_X_y=True)\n",
        "from sklearn.model_selection import train_test_split\n",
        "X_train,X_test,y_train,y_test = train_test_split(X,y,test_size=0.2,random_state=4)\n",
        "from sklearn.linear_model import Ridge\n",
        "reg = Ridge(alpha=0.1,solver='cholesky')\n",
        "reg.fit(X_train,y_train)\n",
        "y_pred = reg.predict(X_test)\n",
        "print(r2_score(y_test,y_pred))\n",
        "print(reg.coef_)\n",
        "print(reg.intercept_)\n"
      ],
      "metadata": {
        "colab": {
          "base_uri": "https://localhost:8080/"
        },
        "id": "q8V8aRWf2C7v",
        "outputId": "e2a4d1b0-3fd6-4a17-d89a-ee01728271ab"
      },
      "execution_count": null,
      "outputs": [
        {
          "output_type": "stream",
          "name": "stdout",
          "text": [
            "0.4693128853309805\n",
            "[  44.02063391 -241.69329987  452.98665299  332.04420177  -76.33686744\n",
            "  -68.52143809 -164.98809083  149.96908118  431.61347417   58.51862681]\n",
            "150.89053425602808\n"
          ]
        }
      ]
    },
    {
      "cell_type": "markdown",
      "source": [
        "**Own code**"
      ],
      "metadata": {
        "id": "KGsqZdWa2b9S"
      }
    },
    {
      "cell_type": "code",
      "source": [
        "class myRidge:\n",
        "\n",
        "    def __init__(self,alpha=0.1):\n",
        "\n",
        "        self.alpha = alpha\n",
        "        self.coef_ = None\n",
        "        self.intercept_ = None\n",
        "\n",
        "    def fit(self,X_train,y_train):\n",
        "\n",
        "        X_train = np.insert(X_train,0,1,axis=1)\n",
        "        I = np.identity(X_train.shape[1])\n",
        "        I[0][0] = 0\n",
        "        result = np.linalg.inv(np.dot(X_train.T,X_train) + self.alpha * I).dot(X_train.T).dot(y_train)\n",
        "        self.intercept_ = result[0]\n",
        "        self.coef_ = result[1:]\n",
        "\n",
        "    def predict(self,X_test):\n",
        "        return np.dot(X_test,self.coef_) + self.intercept_\n",
        "\n",
        "\n",
        "reg = myRidge()\n",
        "reg.fit(X_train,y_train)\n",
        "y_pred = reg.predict(X_test)\n",
        "print(r2_score(y_test,y_pred))\n",
        "print(reg.coef_)\n",
        "print(reg.intercept_)\n"
      ],
      "metadata": {
        "colab": {
          "base_uri": "https://localhost:8080/"
        },
        "id": "JDbOjIlP2aBb",
        "outputId": "4de9a3dc-0c9d-4aaf-ab7a-c963214a1a81"
      },
      "execution_count": null,
      "outputs": [
        {
          "output_type": "stream",
          "name": "stdout",
          "text": [
            "0.4693128853309805\n",
            "[  44.02063391 -241.69329987  452.98665299  332.04420177  -76.33686744\n",
            "  -68.52143809 -164.98809083  149.96908118  431.61347417   58.51862681]\n",
            "150.8905342560281\n"
          ]
        }
      ]
    },
    {
      "cell_type": "markdown",
      "source": [
        "**using GD**"
      ],
      "metadata": {
        "id": "rN7OqP6o3PQ7"
      }
    },
    {
      "cell_type": "markdown",
      "source": [
        "W = W - learninf rate (dL/dW)\n",
        "\n",
        "dL/dW is gradient\n",
        "\n",
        "dL/dW = X transpose . X W - X transpose . Y + lambda . W\n",
        "\n"
      ],
      "metadata": {
        "id": "8VBgEkuQ9yvw"
      }
    },
    {
      "cell_type": "code",
      "source": [
        "from sklearn.linear_model import SGDRegressor\n",
        "reg = SGDRegressor(penalty=\"l2\", max_iter=500, eta0= 0.1, learning_rate= 'constant', alpha=0.001)\n",
        "reg.fit(X_train, y_train)\n",
        "y_pred = reg.predict(X_test)\n",
        "print(r2_score(y_test,y_pred))\n",
        "print(reg.coef_)\n",
        "print(reg.intercept_)"
      ],
      "metadata": {
        "id": "nAWjRwjA2kOI",
        "colab": {
          "base_uri": "https://localhost:8080/"
        },
        "outputId": "133cd1a8-9f77-4ba4-85dd-f5d51fe475b6"
      },
      "execution_count": null,
      "outputs": [
        {
          "output_type": "stream",
          "name": "stdout",
          "text": [
            "0.3656381915020822\n",
            "[  48.11015376 -159.30737772  373.20093683  267.97655126   -8.92710414\n",
            "  -62.90796048 -169.83624026  137.63051231  336.60759237   92.38203821]\n",
            "[179.36297893]\n"
          ]
        }
      ]
    },
    {
      "cell_type": "code",
      "source": [
        "from sklearn.linear_model import Ridge\n",
        "\n",
        "reg = Ridge(alpha=0.001, max_iter=500,solver='sparse_cg')\n",
        "reg.fit(X_train,y_train)\n",
        "\n",
        "y_pred = reg.predict(X_test)\n",
        "print(\"R2 score\",r2_score(y_test,y_pred))\n",
        "print(reg.coef_)\n",
        "print(reg.intercept_)"
      ],
      "metadata": {
        "colab": {
          "base_uri": "https://localhost:8080/"
        },
        "id": "kmM9sFnmAvuc",
        "outputId": "6ee688cb-e9d1-40b6-fccc-6189a76fc5f8"
      },
      "execution_count": null,
      "outputs": [
        {
          "output_type": "stream",
          "name": "stdout",
          "text": [
            "R2 score 0.46250101619914563\n",
            "[  34.52192544 -290.84084076  482.40181344  368.0678662  -852.44873179\n",
            "  501.59160336  180.11115788  270.76333979  759.73534372   37.4913546 ]\n",
            "151.10198517439466\n"
          ]
        }
      ]
    },
    {
      "cell_type": "code",
      "source": [
        "class myRidgeGD:\n",
        "\n",
        "    def __init__(self,epochs,learning_rate,alpha):\n",
        "\n",
        "        self.learning_rate = learning_rate\n",
        "        self.epochs = epochs\n",
        "        self.alpha = alpha\n",
        "        self.coef_ = None\n",
        "        self.intercept_ = None\n",
        "\n",
        "    def fit(self,X_train,y_train):\n",
        "\n",
        "        self.coef_ = np.ones(X_train.shape[1])\n",
        "        self.intercept_ = 0\n",
        "        thetha = np.insert(self.coef_,0,self.intercept_)\n",
        "\n",
        "        X_train = np.insert(X_train,0,1,axis=1)\n",
        "\n",
        "        for i in range(self.epochs):\n",
        "            thetha_der = np.dot(X_train.T,X_train).dot(thetha) - np.dot(X_train.T,y_train) + self.alpha*thetha\n",
        "            thetha = thetha - self.learning_rate*thetha_der\n",
        "\n",
        "        self.coef_ = thetha[1:]\n",
        "        self.intercept_ = thetha[0]\n",
        "\n",
        "    def predict(self,X_test):\n",
        "\n",
        "        return np.dot(X_test,self.coef_) + self.intercept_"
      ],
      "metadata": {
        "id": "5yCSGd4eCX-H"
      },
      "execution_count": null,
      "outputs": []
    },
    {
      "cell_type": "code",
      "source": [
        "reg = myRidgeGD(epochs=500,alpha=0.001,learning_rate=0.005)\n",
        "\n",
        "reg.fit(X_train,y_train)\n",
        "\n",
        "y_pred = reg.predict(X_test)\n",
        "print(\"R2 score\",r2_score(y_test,y_pred))\n",
        "print(reg.coef_)\n",
        "print(reg.intercept_)"
      ],
      "metadata": {
        "colab": {
          "base_uri": "https://localhost:8080/"
        },
        "id": "StkFtGktCjYF",
        "outputId": "d02e7758-0db5-4e74-9626-a3ca495ad705"
      },
      "execution_count": null,
      "outputs": [
        {
          "output_type": "stream",
          "name": "stdout",
          "text": [
            "R2 score 0.4738018280260913\n",
            "[  46.65050914 -221.3750037   452.12080647  325.54248128  -29.09464178\n",
            "  -96.47517735 -190.90017011  146.32900372  400.80267299   95.09048094]\n",
            "150.86975316713472\n"
          ]
        }
      ]
    },
    {
      "cell_type": "markdown",
      "source": [
        "https://youtu.be/8osKeShYVRQ?list=PLKnIA16_Rmvbr7zKYQuBfsVkjoLcJgxHH\n",
        "\n",
        "- How the coeff get affected?\n",
        "\n",
        "  -> coef decrease towards zero but never get zero.\n",
        "\n",
        "- Higher Values coeff are impacted more\n",
        "- Bias Variance Tradeoff= as the lambda increase bias will increase and variance decrease.\n",
        "\n",
        "  we need the value in which bias and variance both are less.\n",
        "\n",
        "- lambda impact in loss function\n",
        "\n",
        "- Why called Ridge?\n",
        "  -> solution always lies in boundary\n",
        "\n"
      ],
      "metadata": {
        "id": "lPzrqHf7C395"
      }
    },
    {
      "cell_type": "markdown",
      "source": [
        "## Lasso Regression(L1)\n",
        "\n",
        "L = MSE + lambda ||W||\n",
        "\n",
        "||W|| = |W1| + |W2| + ......+ |Wn|\n"
      ],
      "metadata": {
        "id": "ca7GY1uYQWQi"
      }
    },
    {
      "cell_type": "code",
      "source": [
        "import numpy as np\n",
        "import pandas as pd\n",
        "import matplotlib.pyplot as plt\n",
        "\n",
        "from sklearn.linear_model import Lasso\n",
        "from sklearn.datasets import make_regression\n",
        "from sklearn.model_selection import train_test_split"
      ],
      "metadata": {
        "id": "_XyUbymNRbMT"
      },
      "execution_count": 1,
      "outputs": []
    },
    {
      "cell_type": "code",
      "source": [
        "X,y = make_regression(n_samples=100, n_features=1, n_informative=1, n_targets=1,noise=20,random_state=13)\n",
        "\n",
        "X_train,X_test,y_train,y_test = train_test_split(X,y,test_size=0.2)\n",
        "\n",
        "plt.scatter(X,y)\n",
        "\n",
        "from sklearn.linear_model import LinearRegression\n",
        "\n",
        "reg = LinearRegression()\n",
        "reg.fit(X_train,y_train)\n",
        "print(reg.coef_)\n",
        "print(reg.intercept_)"
      ],
      "metadata": {
        "colab": {
          "base_uri": "https://localhost:8080/",
          "height": 466
        },
        "id": "VhLymZFIRsok",
        "outputId": "58dda11f-0188-451f-a6ff-7fad89098183"
      },
      "execution_count": 2,
      "outputs": [
        {
          "output_type": "stream",
          "name": "stdout",
          "text": [
            "[26.99227502]\n",
            "-1.4873624465231794\n"
          ]
        },
        {
          "output_type": "display_data",
          "data": {
            "text/plain": [
              "<Figure size 640x480 with 1 Axes>"
            ],
            "image/png": "[encoded data removed]"
          },
          "metadata": {}
        }
      ]
    },
    {
      "cell_type": "code",
      "source": [
        "alphas = [0,1,5,10,30]\n",
        "plt.figure(figsize=(12,6))\n",
        "plt.scatter(X,y)\n",
        "for i in alphas:\n",
        "    L = Lasso(alpha=i)\n",
        "    L.fit(X_train,y_train)\n",
        "    plt.plot(X_test,L.predict(X_test),label='alpha={}'.format(i))\n",
        "plt.legend()\n",
        "plt.show()"
      ],
      "metadata": {
        "colab": {
          "base_uri": "https://localhost:8080/",
          "height": 468
        },
        "id": "3Tp-1ASPRu7x",
        "outputId": "2222f327-2000-4e8e-fc99-240904accef3"
      },
      "execution_count": 3,
      "outputs": [
        {
          "output_type": "stream",
          "name": "stderr",
          "text": [
            "/usr/local/lib/python3.10/dist-packages/sklearn/base.py:1473: UserWarning: With alpha=0, this algorithm does not converge well. You are advised to use the LinearRegression estimator\n",
            "  return fit_method(estimator, *args, **kwargs)\n",
            "/usr/local/lib/python3.10/dist-packages/sklearn/linear_model/_coordinate_descent.py:697: UserWarning: Coordinate descent with no regularization may lead to unexpected results and is discouraged.\n",
            "  model = cd_fast.enet_coordinate_descent(\n",
            "/usr/local/lib/python3.10/dist-packages/sklearn/linear_model/_coordinate_descent.py:697: ConvergenceWarning: Objective did not converge. You might want to increase the number of iterations, check the scale of the features or consider increasing regularisation. Duality gap: 1.161e+04, tolerance: 7.594e+00 Linear regression models with null weight for the l1 regularization term are more efficiently fitted using one of the solvers implemented in sklearn.linear_model.Ridge/RidgeCV instead.\n",
            "  model = cd_fast.enet_coordinate_descent(\n"
          ]
        },
        {
          "output_type": "display_data",
          "data": {
            "text/plain": [
              "<Figure size 1200x600 with 1 Axes>"
            ],
            "image/png": "[encoded data removed]"
          },
          "metadata": {}
        }
      ]
    },
    {
      "cell_type": "markdown",
      "source": [
        "When alpha is 0 then it act as linear regression. overfitting\n",
        "\n",
        "When alpha is 30 then it only depend on b value since m = 0. It is underfitting\n",
        "\n",
        "alpha canot less than 0. no neg\n"
      ],
      "metadata": {
        "id": "YCqZEDDtTpsX"
      }
    },
    {
      "cell_type": "code",
      "source": [
        "m = 100\n",
        "x1 = 5 * np.random.rand(m, 1) - 2\n",
        "x2 = 0.7 * x1 ** 2 - 2 * x1 + 3 + np.random.randn(m, 1)\n",
        "\n",
        "plt.scatter(x1, x2)\n",
        "plt.show()"
      ],
      "metadata": {
        "colab": {
          "base_uri": "https://localhost:8080/",
          "height": 430
        },
        "id": "hdqCl0AZRy6c",
        "outputId": "c33489df-7a08-4c2e-8f29-663f5ebcb0fd"
      },
      "execution_count": 4,
      "outputs": [
        {
          "output_type": "display_data",
          "data": {
            "text/plain": [
              "<Figure size 640x480 with 1 Axes>"
            ],
            "image/png": "[encoded data removed]"
          },
          "metadata": {}
        }
      ]
    },
    {
      "cell_type": "code",
      "source": [
        "from sklearn.pipeline import Pipeline\n",
        "from sklearn.preprocessing import PolynomialFeatures\n",
        "from sklearn.linear_model import Ridge\n",
        "\n",
        "def get_preds_lasso(x1, x2, alpha):\n",
        "    model = Pipeline([\n",
        "        ('poly_feats', PolynomialFeatures(degree=16)),\n",
        "        ('lasso', Lasso(alpha=alpha))\n",
        "    ])\n",
        "    model.fit(x1, x2)\n",
        "    return model.predict(x1)\n",
        "\n",
        "alphas = [0, 0.1, 1]\n",
        "cs = ['r', 'g', 'b']\n",
        "\n",
        "plt.figure(figsize=(10, 6))\n",
        "plt.plot(x1, x2, 'b+', label='Datapoints')\n",
        "\n",
        "for alpha, c in zip(alphas, cs):\n",
        "    preds = get_preds_lasso(x1, x2, alpha)\n",
        "    # Plot\n",
        "    plt.plot(sorted(x1[:, 0]), preds[np.argsort(x1[:, 0])], c, label='Alpha: {}'.format(alpha))\n",
        "\n",
        "plt.legend()\n",
        "plt.show()"
      ],
      "metadata": {
        "colab": {
          "base_uri": "https://localhost:8080/",
          "height": 605
        },
        "id": "58ASpIqSlpNV",
        "outputId": "6148d401-49e7-41f4-8c13-37dcda6549c9"
      },
      "execution_count": 5,
      "outputs": [
        {
          "output_type": "stream",
          "name": "stderr",
          "text": [
            "/usr/local/lib/python3.10/dist-packages/sklearn/base.py:1473: UserWarning: With alpha=0, this algorithm does not converge well. You are advised to use the LinearRegression estimator\n",
            "  return fit_method(estimator, *args, **kwargs)\n",
            "/usr/local/lib/python3.10/dist-packages/sklearn/linear_model/_coordinate_descent.py:697: UserWarning: Coordinate descent with no regularization may lead to unexpected results and is discouraged.\n",
            "  model = cd_fast.enet_coordinate_descent(\n",
            "/usr/local/lib/python3.10/dist-packages/sklearn/linear_model/_coordinate_descent.py:697: ConvergenceWarning: Objective did not converge. You might want to increase the number of iterations, check the scale of the features or consider increasing regularisation. Duality gap: 4.387e+01, tolerance: 7.601e-02 Linear regression models with null weight for the l1 regularization term are more efficiently fitted using one of the solvers implemented in sklearn.linear_model.Ridge/RidgeCV instead.\n",
            "  model = cd_fast.enet_coordinate_descent(\n",
            "/usr/local/lib/python3.10/dist-packages/sklearn/linear_model/_coordinate_descent.py:697: ConvergenceWarning: Objective did not converge. You might want to increase the number of iterations, check the scale of the features or consider increasing regularisation. Duality gap: 6.825e+01, tolerance: 7.601e-02\n",
            "  model = cd_fast.enet_coordinate_descent(\n",
            "/usr/local/lib/python3.10/dist-packages/sklearn/linear_model/_coordinate_descent.py:697: ConvergenceWarning: Objective did not converge. You might want to increase the number of iterations, check the scale of the features or consider increasing regularisation. Duality gap: 1.592e+02, tolerance: 7.601e-02\n",
            "  model = cd_fast.enet_coordinate_descent(\n"
          ]
        },
        {
          "output_type": "display_data",
          "data": {
            "text/plain": [
              "<Figure size 1000x600 with 1 Axes>"
            ],
            "image/png": "[encoded data removed]"
          },
          "metadata": {}
        }
      ]
    },
    {
      "cell_type": "markdown",
      "source": [
        "lasso regresion case alpha increase very high then coeff will become zero.\n",
        "\n",
        "imagine if you have high dimesion data then there is chances of overfitting very high. If you put ridge regression they all have something value in coeff. In case of lasso regression, if you increase alpha value then coeff of less important dimension become zero. SO, we are performing feature selection inherently in lasso. This means dimension will decrease.\n",
        "\n",
        "We should increase too much alpha where almost all value of coef become zero. We have to come in middle where we can feature select\n",
        "\n",
        "Higher coeff are penilized more. so , that it wont overfitting.\n",
        "\n",
        "lambda increase overfitting decrease.overfitting decrease means bais increase and varince decreases.\n",
        "\n",
        "we need to select point where bias and variance meet.\n",
        "\n"
      ],
      "metadata": {
        "id": "-1KC0wfLgkQD"
      }
    },
    {
      "cell_type": "markdown",
      "source": [
        "How in case of lasso there is sparsity(zero coef for cols)?\n",
        "\n",
        "How can it do feature selection?\n",
        "\n",
        "->   b= mean Y - m mean X\n",
        "\n",
        "L = MSE + lambda |m|\n",
        "\n",
        "dL/dm = 0\n",
        "\n",
        "m = sum of (Yi - mean Y)(Xi - mean X) - lambda/ sum of (Xi - mean X)^2\n",
        "\n",
        "Lasso calculating coeff\n",
        "\n",
        "case I - for m > 0\n",
        "\n",
        "m = sum of (Yi - mean Y)(Xi - mean X) - lambda/ sum of (Xi - mean X)^2\n",
        "\n",
        "case II - for m = 0\n",
        "\n",
        "m = sum of (Yi - mean Y)(Xi - mean X)/ sum of (Xi - mean X)^2\n",
        "\n",
        "case III - for m < 0\n",
        "\n",
        "m = sum of (Yi - mean Y)(Xi - mean X) + lambda/ sum of (Xi - mean X)^2\n",
        "\n",
        "\n",
        "if from case I m value come in negative then automacially m will slove from case III, not by case. In Which lambda value is add, not sub. which is why m value never in neg in lasso.\n",
        "\n",
        "in lasso lambda is num but in ridge is den so, lasso can make sparsity.\n",
        "\n",
        "\n"
      ],
      "metadata": {
        "id": "5ly8Lt5rkwCT"
      }
    },
    {
      "cell_type": "markdown",
      "source": [
        "## ElasticNet Regression"
      ],
      "metadata": {
        "id": "QsiCD5wn-x9_"
      }
    },
    {
      "cell_type": "markdown",
      "source": [],
      "metadata": {
        "id": "h5q4LF37-3um"
      }
    }
  ]
}