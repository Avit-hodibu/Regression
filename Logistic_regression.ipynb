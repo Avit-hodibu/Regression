{
  "nbformat": 4,
  "nbformat_minor": 0,
  "metadata": {
    "colab": {
      "provenance": [],
      "authorship_tag": "ABX9TyNBKFgvYZ87ItkVVYF97e12",
      "include_colab_link": true
    },
    "kernelspec": {
      "name": "python3",
      "display_name": "Python 3"
    },
    "language_info": {
      "name": "python"
    }
  },
  "cells": [
    {
      "cell_type": "markdown",
      "metadata": {
        "id": "view-in-github",
        "colab_type": "text"
      },
      "source": [
        "<a href=\"https://colab.research.google.com/github/Avit-hodibu/Regression/blob/main/Logistic_regression.ipynb\" target=\"_parent\"><img src=\"https://colab.research.google.com/assets/colab-badge.svg\" alt=\"Open In Colab\"/></a>"
      ]
    },
    {
      "cell_type": "markdown",
      "source": [
        "#Logistic Regression\n",
        "\n"
      ],
      "metadata": {
        "id": "iVmdnfZfNaQB"
      }
    },
    {
      "cell_type": "markdown",
      "source": [
        "Perceptron trick:\n",
        "what is does is it will ask point that is he in right track. if not then change the poistion of line and make sure that he is on right track. This loop or converge keep happaning\n",
        "\n",
        "How to label regions?\n",
        "\n",
        "Ax+By+C=0\n",
        "\n",
        "in this equation we try to fit the point. If Ax+By+C > 0 then point in  positive region and if less than 0 then neg and if equal to 0 then point lies in line\n",
        "\n",
        "\n",
        "How does it transform the line?\n",
        "\n",
        "Ax+By+C=0\n",
        "\n",
        "if you change C then the line will move parallel up and down. C is increase it go down and C decrease it go up.\n",
        "\n",
        "if change in A coef it will rotate. A coef increase then it rotate to clockwise and coef decrease then will mover anti-clockwise. but Y point remain fix\n",
        "\n",
        "if change in B coef it will rotate. B coef increase then it rotate to anti clockwise and coef decrease then will mover clockwise. but X point remain fix\n",
        "\n",
        "We need to apply transformation for error point (data)\n",
        "\n",
        "move up then subtrace with the coef of with data puting 1 for C coef sub.\n",
        "For eg: equ 2x+3y+5 = 0 and data (4,5) gives 2-4= -2, 3-5= -2, 5-1 =4 this give -2x+-2y+4 = 0\n",
        "\n",
        "move down then add with coef of data puting 1 for C coef add.\n",
        "\n",
        "coef new = coef old - learning rate * coordinate\n",
        "\n",
        "\n",
        "\n"
      ],
      "metadata": {
        "id": "LUHu7ks6Ngj1"
      }
    },
    {
      "cell_type": "markdown",
      "source": [
        "W0 + W1 X1 + W2 X2 =0\n",
        "\n",
        "X0 = 1 in all col\n",
        "\n",
        "sum i to n WiXi= 0\n",
        "\n",
        " if row=i WiXi>=0 then 1 else 0\n",
        "\n",
        "```\n",
        "for i in range(epochs):\n",
        "    if  Xi E N (according to data it is 0 means no)and sum i to 2 WiXi>= 0(according to model it is 1 means yes)\n",
        "```\n",
        "then we update our coef W by:\n",
        "\n",
        "W new = W old - learning rate * Xi\n",
        "```\n",
        "again\n",
        "for i in range(epochs):\n",
        "    if  Xi E P (according to data it is 1 means yes)and sum i to 2 WiXi< 0(according to model it is 0 means no)\n",
        "\n",
        "```\n",
        "then we update our coef W by\n",
        "\n",
        "W new = W old + learning rate * Xi"
      ],
      "metadata": {
        "id": "p9sYeFUdNh5c"
      }
    },
    {
      "cell_type": "markdown",
      "source": [
        "Algo:\n",
        "we directly use this\n",
        "```\n",
        "for i in range(epochs)\n",
        "  W new = W old - learning rate *(Yi - Yi hat)* Xi\n",
        "```"
      ],
      "metadata": {
        "id": "QDcCpTEcRGZQ"
      }
    },
    {
      "cell_type": "code",
      "execution_count": null,
      "metadata": {
        "id": "d7ULMIq4NRz1"
      },
      "outputs": [],
      "source": []
    }
  ]
}